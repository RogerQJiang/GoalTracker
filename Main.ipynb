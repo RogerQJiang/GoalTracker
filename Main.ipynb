{
 "cells": [
  {
   "cell_type": "code",
   "execution_count": 1,
   "metadata": {},
   "outputs": [],
   "source": [
    "import sys\n",
    "import datetime as dt\n",
    "import tkinter as tk\n",
    "from tkinter import ttk\n",
    "\n",
    "\n",
    "\n",
    "\n",
    "class GoalTab(tk.Frame):\n",
    "    '''Frame containing gui to add goals'''\n",
    "    pass\n",
    "\n",
    "class Tree(tk.Frame):\n",
    "    '''Frame containing gui to display goal tree'''\n",
    "    pass\n",
    "\n",
    "class Timeline(tk.Frame):\n",
    "    '''Frame containing gui to display goal tree'''\n",
    "    pass\n",
    "\n",
    "def SaveGoal():\n",
    "    '''Saves the goal in AddGoals tab'''\n",
    "    pass\n",
    "\n",
    "def ClickGoal():\n",
    "    '''Expand the goal clicked'''\n",
    "    pass\n",
    "\n",
    "\n",
    "\n",
    "def main():\n",
    "    '''Main entry point for the script'''\n",
    "    goals_dict = dict()\n",
    "    \n",
    "    \n",
    "    \n",
    "    \n",
    "    \n",
    "    \n",
    "#     Tkinter Setup\n",
    "#     root = tk.Tk()\n",
    "#     tabs = ttk.Notebook(root)\n",
    "#     tree = Tree(tabs)\n",
    "#     timeline = TimeLine(tabs)\n",
    "#     addgoal = GoalTab(tabs)\n",
    "    \n",
    "#     tabs.add(tree, text=\"Goals Tree\")\n",
    "#     tabs.add(timeline, text=\"Timeline\")\n",
    "#     tabs.add(addgoal, text=\"Add Goal\")\n",
    "    \n",
    "    \n",
    "#     main_frame = TopLevelFrame(root)\n",
    "    \n",
    "    \n",
    "    \n",
    "    \n",
    "    \n",
    "    \n",
    "    \n",
    "    \n",
    "    \n",
    "    \n",
    "    \n",
    "if __name__ == '__main__':\n",
    "    main()\n",
    "\n"
   ]
  },
  {
   "cell_type": "code",
   "execution_count": 5,
   "metadata": {},
   "outputs": [],
   "source": [
    "import pickle\n",
    "with open (\"test.pickle\", \"wb\") as f:\n",
    "    pickle.dump(goals, f, pickle.HIGHEST_PROTOCOL)"
   ]
  },
  {
   "cell_type": "code",
   "execution_count": 2,
   "metadata": {},
   "outputs": [],
   "source": [
    "import pickle\n",
    "with open (\"test.pickle\", \"rb\") as f:\n",
    "    goals = pickle.load(f)"
   ]
  },
  {
   "cell_type": "code",
   "execution_count": 8,
   "metadata": {},
   "outputs": [
    {
     "name": "stdout",
     "output_type": "stream",
     "text": [
      "Root\n",
      " |-Financial Independence\n",
      " | |-Investment returns\n",
      " | |-Income\n",
      " |   |-Higher Education\n",
      " |   |-New Growth Job\n",
      " |-Personal\n"
     ]
    }
   ],
   "source": [
    "root = [e for e in goals if e.name == \"Root\"][0]\n",
    "\n",
    "def print_stack(parent_goal, curr_goal, prefix):\n",
    "    if curr_goal.name == \"Root\":\n",
    "        print(curr_goal.name)\n",
    "        new_prefix = prefix + \" |\"\n",
    "    else:\n",
    "        print(prefix + \"-\" + curr_goal.name)\n",
    "        \n",
    "        #if goal is last one, cancel \" |\" for all subsequent higher level goals\n",
    "        if curr_goal is goals[parent_goal][-1]:\n",
    "            new_prefix = prefix[:-2] + \"   |\"\n",
    "        else:\n",
    "            new_prefix = prefix + \" |\"\n",
    "            \n",
    "    for e in goals[curr_goal]:\n",
    "        print_stack(curr_goal, e, new_prefix)\n",
    "\n",
    "\n",
    "print_stack(None, root, \"\")\n"
   ]
  },
  {
   "cell_type": "code",
   "execution_count": 20,
   "metadata": {},
   "outputs": [
    {
     "name": "stdout",
     "output_type": "stream",
     "text": [
      "Help on method_descriptor:\n",
      "\n",
      "pop(...)\n",
      "    L.pop([index]) -> item -- remove and return item at index (default last).\n",
      "    Raises IndexError if list is empty or index is out of range.\n",
      "\n"
     ]
    }
   ],
   "source": [
    "help(list.pop)"
   ]
  }
 ],
 "metadata": {
  "kernelspec": {
   "display_name": "Python 3",
   "language": "python",
   "name": "python3"
  },
  "language_info": {
   "codemirror_mode": {
    "name": "ipython",
    "version": 3
   },
   "file_extension": ".py",
   "mimetype": "text/x-python",
   "name": "python",
   "nbconvert_exporter": "python",
   "pygments_lexer": "ipython3",
   "version": "3.6.5"
  }
 },
 "nbformat": 4,
 "nbformat_minor": 2
}
